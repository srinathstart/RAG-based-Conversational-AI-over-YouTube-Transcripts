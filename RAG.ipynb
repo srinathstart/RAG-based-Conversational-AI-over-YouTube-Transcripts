{
  "nbformat": 4,
  "nbformat_minor": 0,
  "metadata": {
    "colab": {
      "provenance": []
    },
    "kernelspec": {
      "name": "python3",
      "display_name": "Python 3"
    },
    "language_info": {
      "name": "python"
    }
  },
  "cells": [
    {
      "cell_type": "code",
      "source": [
        "!pip install -q youtube-transcript-api langchain-community langchain-openai \\\n",
        "               faiss-cpu tiktoken python-dotenv"
      ],
      "metadata": {
        "id": "RREbEX7YbDrW"
      },
      "execution_count": 1,
      "outputs": []
    },
    {
      "cell_type": "code",
      "source": [
        "from youtube_transcript_api import YouTubeTranscriptApi, TranscriptsDisabled\n",
        "from langchain.text_splitter import RecursiveCharacterTextSplitter\n",
        "from langchain_openai import OpenAIEmbeddings, ChatOpenAI\n",
        "from langchain_community.vectorstores import FAISS\n",
        "from langchain_core.prompts import PromptTemplate"
      ],
      "metadata": {
        "id": "c4WO7KvfcKMf"
      },
      "execution_count": 2,
      "outputs": []
    },
    {
      "cell_type": "code",
      "source": [
        "from youtube_transcript_api import YouTubeTranscriptApi, TranscriptsDisabled, NoTranscriptFound\n",
        "\n",
        "video_id = \"bMgfsdYoEEo\"\n",
        "ytt_api = YouTubeTranscriptApi()\n",
        "\n",
        "try:\n",
        "    transcript_data = ytt_api.fetch(video_id, languages=['en-US'])\n",
        "    transcript = \" \".join(chunk.text for chunk in transcript_data)\n",
        "    print(transcript)\n",
        "except TranscriptsDisabled:\n",
        "    print(\"No captions available for this video.\")\n",
        "except NoTranscriptFound:\n",
        "    print(\"No English transcript found.\")\n"
      ],
      "metadata": {
        "colab": {
          "base_uri": "https://localhost:8080/"
        },
        "id": "3q8XOL4mcRN3",
        "outputId": "74f3f12e-3b76-4897-db92-515a763551c1"
      },
      "execution_count": 3,
      "outputs": [
        {
          "output_type": "stream",
          "name": "stdout",
          "text": [
            "- They're both hiding something. - The Devil\n",
            "has come to Pennsylvania. - Jack and Janet Smurl\n",
            "claim that an evil presence has found its way\n",
            "into their home. - Eight people\n",
            "live in this house. Eight people\n",
            "have experienced this. Eight people are not crazy. - So, when did this start? - Uh, Heather's confirmation.\n",
            "- Seventh of September. - There's something\n",
            "in the attic. - Ed. There's an evil here. Something I've felt before. [haunting music] [thunder crashing] This thing in your house\n",
            "is a demon. It's the first one\n",
            "that we've ever encountered. We were young. We were scared. We ran away. And after all these years... [haunting music] it wasn't done with our family. [tapping] - [gasps]\n",
            "- [tapping] - St. Michael, defend us. Be our safeguard\n",
            "against the Devil. In nomine Patris, et Filii, et Spiritus Sanctus. [screams] By the power\n",
            "of our Lord Jesus Christ! - [screaming]\n",
            "- [screaming] - I don't know\n",
            "how to protect you this time. - [evil laughter]\n",
            "- [whimpers] Lorraine! - Ed, get down here! - Lorraine!\n",
            "- We need your help! - Lorraine! [lullaby melody]\n"
          ]
        }
      ]
    },
    {
      "cell_type": "code",
      "source": [
        "transcript_data"
      ],
      "metadata": {
        "colab": {
          "base_uri": "https://localhost:8080/"
        },
        "id": "oD0S3PRDcgAW",
        "outputId": "3860ba77-4f2c-45c3-d987-0356d5caeb3a"
      },
      "execution_count": 4,
      "outputs": [
        {
          "output_type": "execute_result",
          "data": {
            "text/plain": [
              "FetchedTranscript(snippets=[FetchedTranscriptSnippet(text=\"- They're both hiding something.\", start=1.401, duration=1.535), FetchedTranscriptSnippet(text='- The Devil\\nhas come to Pennsylvania.', start=3.103, duration=3.036), FetchedTranscriptSnippet(text='- Jack and Janet Smurl\\nclaim that an evil presence', start=7.841, duration=2.269), FetchedTranscriptSnippet(text='has found its way\\ninto their home.', start=10.277, duration=1.335), FetchedTranscriptSnippet(text='- Eight people\\nlive in this house.', start=11.778, duration=2.47), FetchedTranscriptSnippet(text='Eight people\\nhave experienced this.', start=14.848, duration=2.336), FetchedTranscriptSnippet(text='Eight people are not crazy.', start=18.385, duration=2.336), FetchedTranscriptSnippet(text='- So, when did this start?', start=26.46, duration=2.035), FetchedTranscriptSnippet(text=\"- Uh, Heather's confirmation.\\n- Seventh of September.\", start=28.662, duration=2.336), FetchedTranscriptSnippet(text=\"- There's something\\nin the attic.\", start=31.164, duration=1.502), FetchedTranscriptSnippet(text=\"- Ed. There's an evil here.\", start=35.035, duration=3.403), FetchedTranscriptSnippet(text=\"Something I've felt before.\", start=39.439, duration=3.604), FetchedTranscriptSnippet(text='[haunting music]', start=43.21, duration=1.535), FetchedTranscriptSnippet(text='[thunder crashing]', start=44.912, duration=1.468), FetchedTranscriptSnippet(text='This thing in your house\\nis a demon.', start=46.547, duration=4.17), FetchedTranscriptSnippet(text=\"It's the first one\\nthat we've ever encountered.\", start=52.653, duration=2.002), FetchedTranscriptSnippet(text='We were young. We were scared.', start=57.424, duration=2.87), FetchedTranscriptSnippet(text='We ran away.', start=61.662, duration=1.568), FetchedTranscriptSnippet(text='And after all these years...', start=65.332, duration=1.668), FetchedTranscriptSnippet(text='[haunting music]', start=67.167, duration=3.671), FetchedTranscriptSnippet(text=\"it wasn't done with our family.\", start=71.004, duration=1.735), FetchedTranscriptSnippet(text='[tapping]', start=79.246, duration=4.504), FetchedTranscriptSnippet(text='- [gasps]\\n- [tapping]', start=85.886, duration=1.868), FetchedTranscriptSnippet(text='- St. Michael, defend us.', start=93.827, duration=3.07), FetchedTranscriptSnippet(text='Be our safeguard\\nagainst the Devil.', start=97.064, duration=2.969), FetchedTranscriptSnippet(text='In nomine Patris,', start=101.969, duration=1.434), FetchedTranscriptSnippet(text='et Filii, et Spiritus Sanctus.', start=103.57, duration=2.102), FetchedTranscriptSnippet(text='[screams]', start=105.839, duration=1.568), FetchedTranscriptSnippet(text='By the power\\nof our Lord Jesus Christ!', start=107.574, duration=2.903), FetchedTranscriptSnippet(text='- [screaming]\\n- [screaming]', start=116.45, duration=2.202), FetchedTranscriptSnippet(text=\"- I don't know\\nhow to protect you this time.\", start=119.453, duration=2.069), FetchedTranscriptSnippet(text='- [evil laughter]\\n- [whimpers]', start=122.589, duration=1.769), FetchedTranscriptSnippet(text='Lorraine!', start=125.058, duration=1.469), FetchedTranscriptSnippet(text='- Ed, get down here!', start=126.693, duration=1.669), FetchedTranscriptSnippet(text='- Lorraine!\\n- We need your help!', start=128.529, duration=2.502), FetchedTranscriptSnippet(text='- Lorraine!', start=133.066, duration=1.368), FetchedTranscriptSnippet(text='[lullaby melody]', start=136.27, duration=3.97)], video_id='bMgfsdYoEEo', language='English (United States) - English', language_code='en-US', is_generated=False)"
            ]
          },
          "metadata": {},
          "execution_count": 4
        }
      ]
    },
    {
      "cell_type": "code",
      "source": [
        "# Save transcript as plain text (.txt) file\n",
        "with open(f\"{video_id}_transcript.txt\", \"w\", encoding=\"utf-8\") as txt_file:\n",
        "    txt_file.write(transcript)\n",
        "\n",
        "# Save transcript as a PDF (.pdf) file using FPDF\n",
        "try:\n",
        "    from fpdf import FPDF\n",
        "except ImportError:\n",
        "    import sys\n",
        "    !{sys.executable} -m pip install fpdf\n",
        "    from fpdf import FPDF\n",
        "\n",
        "pdf = FPDF()\n",
        "pdf.add_page()\n",
        "pdf.set_auto_page_break(auto=True, margin=15)\n",
        "pdf.set_font(\"Arial\", size=12)\n",
        "\n",
        "# Optionally, split long transcript into lines for clean PDF formatting\n",
        "for line in transcript.split('\\n'):\n",
        "    pdf.multi_cell(0, 10, line)\n",
        "pdf.output(f\"{video_id}_transcript.pdf\")"
      ],
      "metadata": {
        "colab": {
          "base_uri": "https://localhost:8080/",
          "height": 214
        },
        "id": "eKTTLjHiaLMs",
        "outputId": "7dbb34af-974a-4cf4-b0a5-6e635b7fd849"
      },
      "execution_count": 5,
      "outputs": [
        {
          "output_type": "stream",
          "name": "stdout",
          "text": [
            "Collecting fpdf\n",
            "  Downloading fpdf-1.7.2.tar.gz (39 kB)\n",
            "  Preparing metadata (setup.py) ... \u001b[?25l\u001b[?25hdone\n",
            "Building wheels for collected packages: fpdf\n",
            "  Building wheel for fpdf (setup.py) ... \u001b[?25l\u001b[?25hdone\n",
            "  Created wheel for fpdf: filename=fpdf-1.7.2-py2.py3-none-any.whl size=40704 sha256=89990a7ee8ce6363605fb509281c742e7da81defaca70c3405fdc749e0f91e0c\n",
            "  Stored in directory: /root/.cache/pip/wheels/6e/62/11/dc73d78e40a218ad52e7451f30166e94491be013a7850b5d75\n",
            "Successfully built fpdf\n",
            "Installing collected packages: fpdf\n",
            "Successfully installed fpdf-1.7.2\n"
          ]
        },
        {
          "output_type": "execute_result",
          "data": {
            "text/plain": [
              "''"
            ],
            "application/vnd.google.colaboratory.intrinsic+json": {
              "type": "string"
            }
          },
          "metadata": {},
          "execution_count": 5
        }
      ]
    },
    {
      "cell_type": "code",
      "source": [
        "def search_transcript_with_timestamps(transcript_chunks, query, window=30):\n",
        "    \"\"\"\n",
        "    Search transcript chunks for keyword/phrase and return snippets with timestamps.\n",
        "\n",
        "    Args:\n",
        "      transcript_chunks: list of transcript chunks, each with .text, .start (seconds)\n",
        "      query: search keyword or phrase (string)\n",
        "      window: number of characters before and after match to include in snippet\n",
        "\n",
        "    Returns:\n",
        "      List of dictionaries with 'timestamp' (in seconds) and 'snippet' (str with **highlighted** query).\n",
        "    \"\"\"\n",
        "    results = []\n",
        "    query_lower = query.lower()\n",
        "    for chunk in transcript_chunks:\n",
        "        chunk_text = chunk.text.lower()\n",
        "        if query_lower in chunk_text:\n",
        "            start_index = chunk_text.find(query_lower)\n",
        "            snippet_start = max(0, start_index - window)\n",
        "            snippet_end = min(len(chunk.text), start_index + len(query) + window)\n",
        "            snippet = (chunk.text[snippet_start:start_index] + \"**\" +\n",
        "                       chunk.text[start_index:start_index+len(query)] + \"**\" +\n",
        "                       chunk.text[start_index+len(query):snippet_end])\n",
        "            results.append({\n",
        "                \"timestamp\": chunk.start,\n",
        "                \"snippet\": snippet\n",
        "            })\n",
        "    return results\n"
      ],
      "metadata": {
        "id": "dqAoK4fKfy9K"
      },
      "execution_count": 6,
      "outputs": []
    },
    {
      "cell_type": "code",
      "source": [
        "# Example search query\n",
        "search_query = \"They're both hiding\"  # Replace with any user input\n",
        "\n",
        "search_results = search_transcript_with_timestamps(transcript_data, search_query)\n",
        "\n",
        "if not search_results:\n",
        "    print(f\"No matches found for '{search_query}'.\")\n",
        "else:\n",
        "    print(f\"Found {len(search_results)} matches for '{search_query}':\\n\")\n",
        "    for i, res in enumerate(search_results, 1):\n",
        "        minutes = int(res['timestamp'] // 60)\n",
        "        seconds = int(res['timestamp'] % 60)\n",
        "        print(f\"Match {i} at {minutes}:{seconds:02d} -> {res['snippet']}\\n\")\n"
      ],
      "metadata": {
        "colab": {
          "base_uri": "https://localhost:8080/"
        },
        "id": "M7zxptPXf0fU",
        "outputId": "432206df-340f-414a-e378-75fe0825b623"
      },
      "execution_count": 7,
      "outputs": [
        {
          "output_type": "stream",
          "name": "stdout",
          "text": [
            "Found 1 matches for 'They're both hiding':\n",
            "\n",
            "Match 1 at 0:01 -> - **They're both hiding** something.\n",
            "\n"
          ]
        }
      ]
    },
    {
      "cell_type": "code",
      "source": [
        "splitter = RecursiveCharacterTextSplitter(chunk_size=1000, chunk_overlap=200)\n",
        "chunks = splitter.create_documents([transcript])"
      ],
      "metadata": {
        "id": "0mdM_Nk5cnuo"
      },
      "execution_count": 8,
      "outputs": []
    },
    {
      "cell_type": "code",
      "source": [
        "len(chunks)"
      ],
      "metadata": {
        "colab": {
          "base_uri": "https://localhost:8080/"
        },
        "id": "hRvr7JKqcuf1",
        "outputId": "9dd682e5-e5fb-4e65-8c26-d2a21413adb4"
      },
      "execution_count": 9,
      "outputs": [
        {
          "output_type": "execute_result",
          "data": {
            "text/plain": [
              "2"
            ]
          },
          "metadata": {},
          "execution_count": 9
        }
      ]
    },
    {
      "cell_type": "code",
      "source": [
        "chunks[1]"
      ],
      "metadata": {
        "colab": {
          "base_uri": "https://localhost:8080/"
        },
        "id": "VsJR0ua8c_NF",
        "outputId": "5a0af990-b3c5-4dac-ee4d-ec1741d4e764"
      },
      "execution_count": 10,
      "outputs": [
        {
          "output_type": "execute_result",
          "data": {
            "text/plain": [
              "Document(metadata={}, page_content=\"of our Lord Jesus Christ! - [screaming]\\n- [screaming] - I don't know\\nhow to protect you this time. - [evil laughter]\\n- [whimpers] Lorraine! - Ed, get down here! - Lorraine!\\n- We need your help! - Lorraine! [lullaby melody]\")"
            ]
          },
          "metadata": {},
          "execution_count": 10
        }
      ]
    },
    {
      "cell_type": "code",
      "source": [
        "embeddings = OpenAIEmbeddings(model=\"text-embedding-3-small\")\n",
        "vector_store = FAISS.from_documents(chunks, embeddings)"
      ],
      "metadata": {
        "id": "AExP5B1tdFlT"
      },
      "execution_count": 15,
      "outputs": []
    },
    {
      "cell_type": "code",
      "source": [
        "vector_store.index_to_docstore_id"
      ],
      "metadata": {
        "colab": {
          "base_uri": "https://localhost:8080/"
        },
        "id": "Z9_MU2Y1dI9T",
        "outputId": "f7149e00-99b2-45b6-da18-49f16d538318"
      },
      "execution_count": 16,
      "outputs": [
        {
          "output_type": "execute_result",
          "data": {
            "text/plain": [
              "{0: '894cdada-5e68-4f78-9d0c-e21dbdbf1214',\n",
              " 1: 'f8545db8-2784-402f-8aff-c34b93173b58'}"
            ]
          },
          "metadata": {},
          "execution_count": 16
        }
      ]
    },
    {
      "cell_type": "code",
      "source": [
        "retriever = vector_store.as_retriever(search_type=\"similarity\", search_kwargs={\"k\": 4})"
      ],
      "metadata": {
        "id": "i5ltsW5SdMnE"
      },
      "execution_count": 17,
      "outputs": []
    },
    {
      "cell_type": "code",
      "source": [
        "retriever"
      ],
      "metadata": {
        "colab": {
          "base_uri": "https://localhost:8080/"
        },
        "id": "t5G49vzGdPVz",
        "outputId": "7d280a76-cac7-468c-f9ba-bb78e1709e50"
      },
      "execution_count": 18,
      "outputs": [
        {
          "output_type": "execute_result",
          "data": {
            "text/plain": [
              "VectorStoreRetriever(tags=['FAISS', 'OpenAIEmbeddings'], vectorstore=<langchain_community.vectorstores.faiss.FAISS object at 0x7f66297ae510>, search_kwargs={'k': 4})"
            ]
          },
          "metadata": {},
          "execution_count": 18
        }
      ]
    },
    {
      "cell_type": "code",
      "source": [
        "llm = ChatOpenAI(model=\"gpt-4o-mini\", temperature=0.2)"
      ],
      "metadata": {
        "id": "9oGhjC-DdVFN"
      },
      "execution_count": 19,
      "outputs": []
    },
    {
      "cell_type": "code",
      "source": [
        "prompt = PromptTemplate(\n",
        "    template=\"\"\"\n",
        "You are a precise and factual assistant. Your job is to answer questions strictly based on the video transcript provided.\n",
        "\n",
        "Transcript:\n",
        "{context}\n",
        "\n",
        "User Question:\n",
        "{question}\n",
        "\n",
        "Instructions:\n",
        "- Only use the transcript above to answer.\n",
        "- If the transcript does not contain the answer, respond exactly with:\n",
        "  \"I'm sorry, the answer is not available in the video.\"\n",
        "- If the transcript only partially answers, say:\n",
        "  \"The transcript only mentions XYZ but does not provide a full answer.\"\n",
        "  (Replace XYZ with the relevant part mentioned in the transcript.)\n",
        "- Do not add information from outside the transcript.\n",
        "- Keep the response clear, concise, and directly relevant to the question.\n",
        "\"\"\",\n",
        "    input_variables=['context', 'question']\n",
        ")\n",
        "\n"
      ],
      "metadata": {
        "id": "f_TnVQYidpTp"
      },
      "execution_count": 20,
      "outputs": []
    },
    {
      "cell_type": "code",
      "source": [
        "question1          = \"What is this video about? Can you give me a brief summary of the transcript?\"\n",
        "retrieved_docs    = retriever.invoke(question1)"
      ],
      "metadata": {
        "id": "USZsZdhmdWtI"
      },
      "execution_count": 21,
      "outputs": []
    },
    {
      "cell_type": "code",
      "source": [
        "context_text = \"\\n\\n\".join(doc.page_content for doc in retrieved_docs)\n",
        "context_text"
      ],
      "metadata": {
        "colab": {
          "base_uri": "https://localhost:8080/",
          "height": 143
        },
        "id": "bEcCXBIedY56",
        "outputId": "fb1300e8-095a-44c3-fce8-037a262eecd8"
      },
      "execution_count": 22,
      "outputs": [
        {
          "output_type": "execute_result",
          "data": {
            "text/plain": [
              "\"- They're both hiding something. - The Devil\\nhas come to Pennsylvania. - Jack and Janet Smurl\\nclaim that an evil presence has found its way\\ninto their home. - Eight people\\nlive in this house. Eight people\\nhave experienced this. Eight people are not crazy. - So, when did this start? - Uh, Heather's confirmation.\\n- Seventh of September. - There's something\\nin the attic. - Ed. There's an evil here. Something I've felt before. [haunting music] [thunder crashing] This thing in your house\\nis a demon. It's the first one\\nthat we've ever encountered. We were young. We were scared. We ran away. And after all these years... [haunting music] it wasn't done with our family. [tapping] - [gasps]\\n- [tapping] - St. Michael, defend us. Be our safeguard\\nagainst the Devil. In nomine Patris, et Filii, et Spiritus Sanctus. [screams] By the power\\nof our Lord Jesus Christ! - [screaming]\\n- [screaming] - I don't know\\nhow to protect you this time. - [evil laughter]\\n\\nof our Lord Jesus Christ! - [screaming]\\n- [screaming] - I don't know\\nhow to protect you this time. - [evil laughter]\\n- [whimpers] Lorraine! - Ed, get down here! - Lorraine!\\n- We need your help! - Lorraine! [lullaby melody]\""
            ],
            "application/vnd.google.colaboratory.intrinsic+json": {
              "type": "string"
            }
          },
          "metadata": {},
          "execution_count": 22
        }
      ]
    },
    {
      "cell_type": "code",
      "source": [
        "final_prompt = prompt.invoke({\"context\": context_text, \"question\": question1})"
      ],
      "metadata": {
        "id": "pB7Yq5uOdaiK"
      },
      "execution_count": 23,
      "outputs": []
    },
    {
      "cell_type": "code",
      "source": [
        "answer = llm.invoke(final_prompt)\n",
        "print(answer.content)"
      ],
      "metadata": {
        "colab": {
          "base_uri": "https://localhost:8080/"
        },
        "id": "sHLotdvHdcQn",
        "outputId": "e8cf147e-4f68-4755-91c2-4f945b4ed7f0"
      },
      "execution_count": 24,
      "outputs": [
        {
          "output_type": "stream",
          "name": "stdout",
          "text": [
            "The transcript mentions a couple, Jack and Janet Smurl, who claim that an evil presence, described as a demon, has invaded their home in Pennsylvania. It discusses the experiences of eight people living in the house, indicating that they are not crazy. The haunting began during Heather's confirmation on September 7th, and there are references to attempts to protect themselves through prayers and the invocation of St. Michael. The situation appears to be dire, with characters expressing fear and a sense of urgency for help. \n",
            "\n",
            "The transcript only mentions the experiences of Jack and Janet Smurl and their family's encounters with the evil presence but does not provide a full answer.\n"
          ]
        }
      ]
    },
    {
      "cell_type": "code",
      "source": [
        "question2        = \"What is the RAG?\"\n",
        "retrieved_docs    = retriever.invoke(question2)"
      ],
      "metadata": {
        "id": "826FR4GPT8MF"
      },
      "execution_count": 25,
      "outputs": []
    },
    {
      "cell_type": "code",
      "source": [
        "context_text = \"\\n\\n\".join(doc.page_content for doc in retrieved_docs)\n",
        "context_text"
      ],
      "metadata": {
        "colab": {
          "base_uri": "https://localhost:8080/",
          "height": 143
        },
        "id": "rk326udAUSRp",
        "outputId": "f00f2cae-ec0c-48fc-c18d-3ce907967996"
      },
      "execution_count": 26,
      "outputs": [
        {
          "output_type": "execute_result",
          "data": {
            "text/plain": [
              "\"of our Lord Jesus Christ! - [screaming]\\n- [screaming] - I don't know\\nhow to protect you this time. - [evil laughter]\\n- [whimpers] Lorraine! - Ed, get down here! - Lorraine!\\n- We need your help! - Lorraine! [lullaby melody]\\n\\n- They're both hiding something. - The Devil\\nhas come to Pennsylvania. - Jack and Janet Smurl\\nclaim that an evil presence has found its way\\ninto their home. - Eight people\\nlive in this house. Eight people\\nhave experienced this. Eight people are not crazy. - So, when did this start? - Uh, Heather's confirmation.\\n- Seventh of September. - There's something\\nin the attic. - Ed. There's an evil here. Something I've felt before. [haunting music] [thunder crashing] This thing in your house\\nis a demon. It's the first one\\nthat we've ever encountered. We were young. We were scared. We ran away. And after all these years... [haunting music] it wasn't done with our family. [tapping] - [gasps]\\n- [tapping] - St. Michael, defend us. Be our safeguard\\nagainst the Devil. In nomine Patris, et Filii, et Spiritus Sanctus. [screams] By the power\\nof our Lord Jesus Christ! - [screaming]\\n- [screaming] - I don't know\\nhow to protect you this time. - [evil laughter]\""
            ],
            "application/vnd.google.colaboratory.intrinsic+json": {
              "type": "string"
            }
          },
          "metadata": {},
          "execution_count": 26
        }
      ]
    },
    {
      "cell_type": "code",
      "source": [
        "final_prompt = prompt.invoke({\"context\": context_text, \"question\": question2})"
      ],
      "metadata": {
        "id": "LPn6h7tpUV3W"
      },
      "execution_count": 27,
      "outputs": []
    },
    {
      "cell_type": "code",
      "source": [
        "answer = llm.invoke(final_prompt)\n",
        "print(answer.content)"
      ],
      "metadata": {
        "colab": {
          "base_uri": "https://localhost:8080/"
        },
        "id": "lJ-vYmOqUW_B",
        "outputId": "e299fcbf-5971-41f8-ced3-985246d87ea5"
      },
      "execution_count": 28,
      "outputs": [
        {
          "output_type": "stream",
          "name": "stdout",
          "text": [
            "I'm sorry, the answer is not available in the video.\n"
          ]
        }
      ]
    }
  ]
}